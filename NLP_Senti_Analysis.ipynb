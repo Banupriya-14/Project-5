{
 "cells": [
  {
   "cell_type": "code",
   "execution_count": 2,
   "id": "67d2632f",
   "metadata": {},
   "outputs": [
    {
     "name": "stderr",
     "output_type": "stream",
     "text": [
      "[nltk_data] Downloading package punkt to\n",
      "[nltk_data]     C:\\Users\\shast\\AppData\\Roaming\\nltk_data...\n",
      "[nltk_data]   Package punkt is already up-to-date!\n",
      "[nltk_data] Downloading package punkt_tab to\n",
      "[nltk_data]     C:\\Users\\shast\\AppData\\Roaming\\nltk_data...\n",
      "[nltk_data]   Package punkt_tab is already up-to-date!\n",
      "[nltk_data] Downloading package stopwords to\n",
      "[nltk_data]     C:\\Users\\shast\\AppData\\Roaming\\nltk_data...\n",
      "[nltk_data]   Unzipping corpora\\stopwords.zip.\n"
     ]
    }
   ],
   "source": [
    "import pandas as pd\n",
    "import numpy as np\n",
    "import seaborn as sns\n",
    "import matplotlib.pyplot as plt\n",
    "import pickle\n",
    "import nltk\n",
    "nltk.download('punkt')\n",
    "nltk.download('punkt_tab')\n",
    "\n",
    "import warnings\n",
    "warnings.filterwarnings('ignore')\n",
    "from nltk.stem.porter import PorterStemmer\n",
    "nltk.download('stopwords')\n",
    "from nltk.corpus import stopwords\n",
    "STOPWORDS = set(stopwords.words('english'))\n"
   ]
  },
  {
   "cell_type": "code",
   "execution_count": 3,
   "id": "89e0133e",
   "metadata": {},
   "outputs": [
    {
     "data": {
      "text/html": [
       "<div>\n",
       "<style scoped>\n",
       "    .dataframe tbody tr th:only-of-type {\n",
       "        vertical-align: middle;\n",
       "    }\n",
       "\n",
       "    .dataframe tbody tr th {\n",
       "        vertical-align: top;\n",
       "    }\n",
       "\n",
       "    .dataframe thead th {\n",
       "        text-align: right;\n",
       "    }\n",
       "</style>\n",
       "<table border=\"1\" class=\"dataframe\">\n",
       "  <thead>\n",
       "    <tr style=\"text-align: right;\">\n",
       "      <th></th>\n",
       "      <th>date</th>\n",
       "      <th>title</th>\n",
       "      <th>review</th>\n",
       "      <th>rating</th>\n",
       "      <th>username</th>\n",
       "      <th>helpful_votes</th>\n",
       "      <th>review_length</th>\n",
       "      <th>platform</th>\n",
       "      <th>language</th>\n",
       "      <th>location</th>\n",
       "      <th>version</th>\n",
       "      <th>verified_purchase</th>\n",
       "    </tr>\n",
       "  </thead>\n",
       "  <tbody>\n",
       "    <tr>\n",
       "      <th>0</th>\n",
       "      <td>2024-12-24</td>\n",
       "      <td>East list local interesting far magazine father.</td>\n",
       "      <td>Impressive natural language understanding. Alm...</td>\n",
       "      <td>1</td>\n",
       "      <td>darren55</td>\n",
       "      <td>25</td>\n",
       "      <td>9</td>\n",
       "      <td>Google Play</td>\n",
       "      <td>de</td>\n",
       "      <td>Nepal</td>\n",
       "      <td>2.0.4</td>\n",
       "      <td>No</td>\n",
       "    </tr>\n",
       "    <tr>\n",
       "      <th>1</th>\n",
       "      <td>2024-07-26</td>\n",
       "      <td>Road determine picture figure hard experience ...</td>\n",
       "      <td>Sometimes gives wrong answers or outdated info...</td>\n",
       "      <td>2</td>\n",
       "      <td>davistyler</td>\n",
       "      <td>35</td>\n",
       "      <td>14</td>\n",
       "      <td>Flipkart</td>\n",
       "      <td>es</td>\n",
       "      <td>Panama</td>\n",
       "      <td>2.6.5</td>\n",
       "      <td>No</td>\n",
       "    </tr>\n",
       "    <tr>\n",
       "      <th>2</th>\n",
       "      <td>2024-08-22</td>\n",
       "      <td>Policy social past analysis whole.</td>\n",
       "      <td>Great tool for generating content quickly. Int...</td>\n",
       "      <td>5</td>\n",
       "      <td>andrea59</td>\n",
       "      <td>94</td>\n",
       "      <td>10</td>\n",
       "      <td>App Store</td>\n",
       "      <td>es</td>\n",
       "      <td>Denmark</td>\n",
       "      <td>4.2.2</td>\n",
       "      <td>No</td>\n",
       "    </tr>\n",
       "    <tr>\n",
       "      <th>3</th>\n",
       "      <td>2025-04-24</td>\n",
       "      <td>News financial billion four foreign.</td>\n",
       "      <td>Great tool for generating content quickly. Sta...</td>\n",
       "      <td>3</td>\n",
       "      <td>dcooper</td>\n",
       "      <td>50</td>\n",
       "      <td>15</td>\n",
       "      <td>Amazon</td>\n",
       "      <td>de</td>\n",
       "      <td>Brunei Darussalam</td>\n",
       "      <td>4.4.2</td>\n",
       "      <td>No</td>\n",
       "    </tr>\n",
       "    <tr>\n",
       "      <th>4</th>\n",
       "      <td>2024-08-15</td>\n",
       "      <td>To skill she case sing stop likely.</td>\n",
       "      <td>Excellent for language translation and grammar...</td>\n",
       "      <td>1</td>\n",
       "      <td>christine79</td>\n",
       "      <td>33</td>\n",
       "      <td>11</td>\n",
       "      <td>Flipkart</td>\n",
       "      <td>fr</td>\n",
       "      <td>United States Minor Outlying Islands</td>\n",
       "      <td>5.1.1</td>\n",
       "      <td>Yes</td>\n",
       "    </tr>\n",
       "  </tbody>\n",
       "</table>\n",
       "</div>"
      ],
      "text/plain": [
       "         date                                              title  \\\n",
       "0  2024-12-24   East list local interesting far magazine father.   \n",
       "1  2024-07-26  Road determine picture figure hard experience ...   \n",
       "2  2024-08-22                 Policy social past analysis whole.   \n",
       "3  2025-04-24               News financial billion four foreign.   \n",
       "4  2024-08-15                To skill she case sing stop likely.   \n",
       "\n",
       "                                              review  rating     username  \\\n",
       "0  Impressive natural language understanding. Alm...       1     darren55   \n",
       "1  Sometimes gives wrong answers or outdated info...       2   davistyler   \n",
       "2  Great tool for generating content quickly. Int...       5     andrea59   \n",
       "3  Great tool for generating content quickly. Sta...       3      dcooper   \n",
       "4  Excellent for language translation and grammar...       1  christine79   \n",
       "\n",
       "   helpful_votes  review_length     platform language  \\\n",
       "0             25              9  Google Play       de   \n",
       "1             35             14     Flipkart       es   \n",
       "2             94             10    App Store       es   \n",
       "3             50             15       Amazon       de   \n",
       "4             33             11     Flipkart       fr   \n",
       "\n",
       "                               location version verified_purchase  \n",
       "0                                 Nepal   2.0.4                No  \n",
       "1                                Panama   2.6.5                No  \n",
       "2                               Denmark   4.2.2                No  \n",
       "3                     Brunei Darussalam   4.4.2                No  \n",
       "4  United States Minor Outlying Islands   5.1.1               Yes  "
      ]
     },
     "execution_count": 3,
     "metadata": {},
     "output_type": "execute_result"
    }
   ],
   "source": [
    "df=pd.read_csv(\"E:\\MDTM40\\Project5_AI_Echo_NLP\\chatgpt_style_reviews_dataset.xlsx - Sheet1.csv\")\n",
    "df.head()"
   ]
  },
  {
   "cell_type": "code",
   "execution_count": 4,
   "id": "af5c97c9",
   "metadata": {},
   "outputs": [
    {
     "data": {
      "text/html": [
       "<div>\n",
       "<style scoped>\n",
       "    .dataframe tbody tr th:only-of-type {\n",
       "        vertical-align: middle;\n",
       "    }\n",
       "\n",
       "    .dataframe tbody tr th {\n",
       "        vertical-align: top;\n",
       "    }\n",
       "\n",
       "    .dataframe thead th {\n",
       "        text-align: right;\n",
       "    }\n",
       "</style>\n",
       "<table border=\"1\" class=\"dataframe\">\n",
       "  <thead>\n",
       "    <tr style=\"text-align: right;\">\n",
       "      <th></th>\n",
       "      <th>rating</th>\n",
       "      <th>helpful_votes</th>\n",
       "      <th>review_length</th>\n",
       "    </tr>\n",
       "  </thead>\n",
       "  <tbody>\n",
       "    <tr>\n",
       "      <th>count</th>\n",
       "      <td>50.000000</td>\n",
       "      <td>50.000000</td>\n",
       "      <td>50.000000</td>\n",
       "    </tr>\n",
       "    <tr>\n",
       "      <th>mean</th>\n",
       "      <td>3.000000</td>\n",
       "      <td>60.320000</td>\n",
       "      <td>13.400000</td>\n",
       "    </tr>\n",
       "    <tr>\n",
       "      <th>std</th>\n",
       "      <td>1.340119</td>\n",
       "      <td>25.288894</td>\n",
       "      <td>3.505098</td>\n",
       "    </tr>\n",
       "    <tr>\n",
       "      <th>min</th>\n",
       "      <td>1.000000</td>\n",
       "      <td>9.000000</td>\n",
       "      <td>7.000000</td>\n",
       "    </tr>\n",
       "    <tr>\n",
       "      <th>25%</th>\n",
       "      <td>2.000000</td>\n",
       "      <td>39.000000</td>\n",
       "      <td>10.000000</td>\n",
       "    </tr>\n",
       "    <tr>\n",
       "      <th>50%</th>\n",
       "      <td>3.000000</td>\n",
       "      <td>62.000000</td>\n",
       "      <td>13.000000</td>\n",
       "    </tr>\n",
       "    <tr>\n",
       "      <th>75%</th>\n",
       "      <td>4.000000</td>\n",
       "      <td>85.750000</td>\n",
       "      <td>16.000000</td>\n",
       "    </tr>\n",
       "    <tr>\n",
       "      <th>max</th>\n",
       "      <td>5.000000</td>\n",
       "      <td>99.000000</td>\n",
       "      <td>21.000000</td>\n",
       "    </tr>\n",
       "  </tbody>\n",
       "</table>\n",
       "</div>"
      ],
      "text/plain": [
       "          rating  helpful_votes  review_length\n",
       "count  50.000000      50.000000      50.000000\n",
       "mean    3.000000      60.320000      13.400000\n",
       "std     1.340119      25.288894       3.505098\n",
       "min     1.000000       9.000000       7.000000\n",
       "25%     2.000000      39.000000      10.000000\n",
       "50%     3.000000      62.000000      13.000000\n",
       "75%     4.000000      85.750000      16.000000\n",
       "max     5.000000      99.000000      21.000000"
      ]
     },
     "execution_count": 4,
     "metadata": {},
     "output_type": "execute_result"
    }
   ],
   "source": [
    "df.describe()"
   ]
  },
  {
   "cell_type": "code",
   "execution_count": 5,
   "id": "3dfd1576",
   "metadata": {},
   "outputs": [
    {
     "data": {
      "text/plain": [
       "date                 0\n",
       "title                0\n",
       "review               0\n",
       "rating               0\n",
       "username             0\n",
       "helpful_votes        0\n",
       "review_length        0\n",
       "platform             0\n",
       "language             0\n",
       "location             0\n",
       "version              0\n",
       "verified_purchase    0\n",
       "dtype: int64"
      ]
     },
     "execution_count": 5,
     "metadata": {},
     "output_type": "execute_result"
    }
   ],
   "source": [
    "df.isnull().sum()"
   ]
  },
  {
   "cell_type": "code",
   "execution_count": 6,
   "id": "a90d6e63",
   "metadata": {},
   "outputs": [
    {
     "data": {
      "text/plain": [
       "(50, 12)"
      ]
     },
     "execution_count": 6,
     "metadata": {},
     "output_type": "execute_result"
    }
   ],
   "source": [
    "df.shape"
   ]
  },
  {
   "cell_type": "code",
   "execution_count": 9,
   "id": "bf55b565",
   "metadata": {},
   "outputs": [
    {
     "data": {
      "text/plain": [
       "Index(['date', 'title', 'review', 'rating', 'username', 'helpful_votes',\n",
       "       'review_length', 'platform', 'language', 'location', 'version',\n",
       "       'verified_purchase'],\n",
       "      dtype='object')"
      ]
     },
     "execution_count": 9,
     "metadata": {},
     "output_type": "execute_result"
    }
   ],
   "source": [
    "df.columns"
   ]
  },
  {
   "cell_type": "code",
   "execution_count": 10,
   "id": "a035ef1a",
   "metadata": {},
   "outputs": [
    {
     "data": {
      "text/plain": [
       "date                 object\n",
       "title                object\n",
       "review               object\n",
       "rating                int64\n",
       "username             object\n",
       "helpful_votes         int64\n",
       "review_length         int64\n",
       "platform             object\n",
       "language             object\n",
       "location             object\n",
       "version              object\n",
       "verified_purchase    object\n",
       "dtype: object"
      ]
     },
     "execution_count": 10,
     "metadata": {},
     "output_type": "execute_result"
    }
   ],
   "source": [
    "df.dtypes"
   ]
  },
  {
   "cell_type": "markdown",
   "id": "6e8710bf",
   "metadata": {},
   "source": [
    "EDA - Analysing features"
   ]
  },
  {
   "cell_type": "code",
   "execution_count": 12,
   "id": "7aabf286",
   "metadata": {},
   "outputs": [
    {
     "data": {
      "text/plain": [
       "rating\n",
       "2    13\n",
       "3    13\n",
       "5    10\n",
       "1     7\n",
       "4     7\n",
       "Name: count, dtype: int64"
      ]
     },
     "execution_count": 12,
     "metadata": {},
     "output_type": "execute_result"
    }
   ],
   "source": [
    "df['rating'].value_counts()"
   ]
  },
  {
   "cell_type": "code",
   "execution_count": 19,
   "id": "88bbf338",
   "metadata": {},
   "outputs": [
    {
     "data": {
      "image/png": "[encoded data removed]",
      "text/plain": [
       "<Figure size 300x200 with 1 Axes>"
      ]
     },
     "metadata": {},
     "output_type": "display_data"
    }
   ],
   "source": [
    "#Bar plot to visualize the total counts of each rating\n",
    "\n",
    "plt.figure(figsize=(3,2))\n",
    "df['rating'].value_counts().plot.bar(color = 'orange')\n",
    "plt.title('Rating distribution count')\n",
    "plt.xlabel('Ratings')\n",
    "plt.ylabel('Count')\n",
    "plt.show()"
   ]
  },
  {
   "cell_type": "code",
   "execution_count": 20,
   "id": "fc802683",
   "metadata": {},
   "outputs": [
    {
     "name": "stdout",
     "output_type": "stream",
     "text": [
      "Rating value count - percentage distribution: \n",
      "rating\n",
      "2    26.0\n",
      "3    26.0\n",
      "5    20.0\n",
      "1    14.0\n",
      "4    14.0\n",
      "Name: count, dtype: float64\n"
     ]
    }
   ],
   "source": [
    "#Finding the percentage distribution of each rating - we'll divide the number of records for each rating by total number of records\n",
    "\n",
    "print(f\"Rating value count - percentage distribution: \\n{round(df['rating'].value_counts()/df.shape[0]*100,2)}\")\n"
   ]
  },
  {
   "cell_type": "code",
   "execution_count": 21,
   "id": "f621042f",
   "metadata": {},
   "outputs": [
    {
     "data": {
      "image/png": "[encoded data removed]",
      "text/plain": [
       "<Figure size 400x400 with 1 Axes>"
      ]
     },
     "metadata": {},
     "output_type": "display_data"
    }
   ],
   "source": [
    "fig = plt.figure(figsize=(4,4))\n",
    "colors = ('red', 'green', 'blue','orange','yellow')\n",
    "wp = {'linewidth':1, \"edgecolor\":'black'}\n",
    "tags = df['rating'].value_counts()/df.shape[0]\n",
    "explode=(0.1,0.1,0.1,0.1,0.1)\n",
    "tags.plot(kind='pie', autopct=\"%1.1f%%\", shadow=True, colors=colors, startangle=90, wedgeprops=wp, explode=explode, label='Percentage wise distrubution of rating')\n",
    "from io import  BytesIO\n",
    "graph = BytesIO()\n",
    "fig.savefig(graph, format=\"png\")\n"
   ]
  },
  {
   "cell_type": "code",
   "execution_count": 23,
   "id": "1ec87658",
   "metadata": {},
   "outputs": [
    {
     "data": {
      "text/plain": [
       "verified_purchase\n",
       "No     30\n",
       "Yes    20\n",
       "Name: count, dtype: int64"
      ]
     },
     "execution_count": 23,
     "metadata": {},
     "output_type": "execute_result"
    }
   ],
   "source": [
    "df['verified_purchase'].value_counts()"
   ]
  },
  {
   "cell_type": "code",
   "execution_count": 28,
   "id": "82245f8d",
   "metadata": {},
   "outputs": [
    {
     "data": {
      "text/html": [
       "<div>\n",
       "<style scoped>\n",
       "    .dataframe tbody tr th:only-of-type {\n",
       "        vertical-align: middle;\n",
       "    }\n",
       "\n",
       "    .dataframe tbody tr th {\n",
       "        vertical-align: top;\n",
       "    }\n",
       "\n",
       "    .dataframe thead th {\n",
       "        text-align: right;\n",
       "    }\n",
       "</style>\n",
       "<table border=\"1\" class=\"dataframe\">\n",
       "  <thead>\n",
       "    <tr style=\"text-align: right;\">\n",
       "      <th></th>\n",
       "      <th>helpful_votes</th>\n",
       "    </tr>\n",
       "    <tr>\n",
       "      <th>rating</th>\n",
       "      <th></th>\n",
       "    </tr>\n",
       "  </thead>\n",
       "  <tbody>\n",
       "    <tr>\n",
       "      <th>1</th>\n",
       "      <td>437</td>\n",
       "    </tr>\n",
       "    <tr>\n",
       "      <th>2</th>\n",
       "      <td>715</td>\n",
       "    </tr>\n",
       "    <tr>\n",
       "      <th>3</th>\n",
       "      <td>859</td>\n",
       "    </tr>\n",
       "    <tr>\n",
       "      <th>4</th>\n",
       "      <td>334</td>\n",
       "    </tr>\n",
       "    <tr>\n",
       "      <th>5</th>\n",
       "      <td>671</td>\n",
       "    </tr>\n",
       "  </tbody>\n",
       "</table>\n",
       "</div>"
      ],
      "text/plain": [
       "        helpful_votes\n",
       "rating               \n",
       "1                 437\n",
       "2                 715\n",
       "3                 859\n",
       "4                 334\n",
       "5                 671"
      ]
     },
     "execution_count": 28,
     "metadata": {},
     "output_type": "execute_result"
    }
   ],
   "source": [
    "df.groupby('rating').agg({'helpful_votes': 'sum'})"
   ]
  },
  {
   "cell_type": "code",
   "execution_count": 29,
   "id": "3b080797",
   "metadata": {},
   "outputs": [
    {
     "data": {
      "text/plain": [
       "platform\n",
       "Flipkart       15\n",
       "App Store      15\n",
       "Amazon         11\n",
       "Google Play     9\n",
       "Name: count, dtype: int64"
      ]
     },
     "execution_count": 29,
     "metadata": {},
     "output_type": "execute_result"
    }
   ],
   "source": [
    "df['platform'].value_counts()"
   ]
  },
  {
   "cell_type": "code",
   "execution_count": 31,
   "id": "35fc5ce8",
   "metadata": {},
   "outputs": [
    {
     "data": {
      "image/png": "[encoded data removed]",
      "text/plain": [
       "<Figure size 300x300 with 1 Axes>"
      ]
     },
     "metadata": {},
     "output_type": "display_data"
    }
   ],
   "source": [
    "df['platform'].value_counts().plot.pie(autopct='%1.1f%%', figsize=(3,3), startangle=90)\n",
    "plt.title(\"Platform Distribution\")\n",
    "plt.ylabel(\"\") \n",
    "plt.show()"
   ]
  },
  {
   "cell_type": "code",
   "execution_count": 38,
   "id": "b949e712",
   "metadata": {},
   "outputs": [
    {
     "data": {
      "text/plain": [
       "location\n",
       "Denmark                                         3\n",
       "Nepal                                           2\n",
       "Brunei Darussalam                               2\n",
       "Macao                                           2\n",
       "Liechtenstein                                   2\n",
       "Mexico                                          2\n",
       "Isle of Man                                     2\n",
       "Panama                                          1\n",
       "United States Minor Outlying Islands            1\n",
       "Spain                                           1\n",
       "Guatemala                                       1\n",
       "Hong Kong                                       1\n",
       "Antigua and Barbuda                             1\n",
       "Kuwait                                          1\n",
       "Switzerland                                     1\n",
       "South Georgia and the South Sandwich Islands    1\n",
       "Seychelles                                      1\n",
       "French Guiana                                   1\n",
       "Cote d'Ivoire                                   1\n",
       "Faroe Islands                                   1\n",
       "Mozambique                                      1\n",
       "Libyan Arab Jamahiriya                          1\n",
       "Turks and Caicos Islands                        1\n",
       "Togo                                            1\n",
       "Angola                                          1\n",
       "Micronesia                                      1\n",
       "Germany                                         1\n",
       "Lesotho                                         1\n",
       "Somalia                                         1\n",
       "Guernsey                                        1\n",
       "Algeria                                         1\n",
       "Armenia                                         1\n",
       "Korea                                           1\n",
       "Morocco                                         1\n",
       "Nicaragua                                       1\n",
       "Fiji                                            1\n",
       "New Zealand                                     1\n",
       "San Marino                                      1\n",
       "Sudan                                           1\n",
       "Martinique                                      1\n",
       "Pitcairn Islands                                1\n",
       "Austria                                         1\n",
       "Name: count, dtype: int64"
      ]
     },
     "execution_count": 38,
     "metadata": {},
     "output_type": "execute_result"
    }
   ],
   "source": [
    "df['location'].value_counts()"
   ]
  },
  {
   "cell_type": "code",
   "execution_count": 39,
   "id": "04c74036",
   "metadata": {},
   "outputs": [
    {
     "data": {
      "text/plain": [
       "language\n",
       "en    19\n",
       "fr    13\n",
       "es    10\n",
       "de     8\n",
       "Name: count, dtype: int64"
      ]
     },
     "execution_count": 39,
     "metadata": {},
     "output_type": "execute_result"
    }
   ],
   "source": [
    "df['language'].value_counts()"
   ]
  },
  {
   "cell_type": "code",
   "execution_count": 40,
   "id": "2b9e309e",
   "metadata": {},
   "outputs": [
    {
     "data": {
      "image/png": "[encoded data removed]",
      "text/plain": [
       "<Figure size 300x300 with 1 Axes>"
      ]
     },
     "metadata": {},
     "output_type": "display_data"
    }
   ],
   "source": [
    "df['language'].value_counts().plot.pie(autopct='%1.1f%%', figsize=(3,3), startangle=90)\n",
    "plt.title(\"Language\")\n",
    "plt.ylabel(\"\") \n",
    "plt.show()"
   ]
  },
  {
   "cell_type": "code",
   "execution_count": null,
   "id": "15bf58e4",
   "metadata": {},
   "outputs": [],
   "source": [
    "#from wordcloud import WordCloud"
   ]
  },
  {
   "cell_type": "code",
   "execution_count": 41,
   "id": "62469911",
   "metadata": {},
   "outputs": [
    {
     "data": {
      "text/plain": [
       "sentiment\n",
       "Negative    20\n",
       "Positive    17\n",
       "Neutral     13\n",
       "Name: count, dtype: int64"
      ]
     },
     "execution_count": 41,
     "metadata": {},
     "output_type": "execute_result"
    }
   ],
   "source": [
    "def rating_to_sentiment(rating):\n",
    "    if rating <= 2:\n",
    "        return 'Negative'\n",
    "    elif rating == 3:\n",
    "        return 'Neutral'\n",
    "    else:\n",
    "        return 'Positive'\n",
    "\n",
    "df['sentiment'] = df['rating'].apply(rating_to_sentiment)\n",
    "df['sentiment'].value_counts()\n"
   ]
  },
  {
   "cell_type": "code",
   "execution_count": 42,
   "id": "09ac2e03",
   "metadata": {},
   "outputs": [
    {
     "data": {
      "text/html": [
       "<div>\n",
       "<style scoped>\n",
       "    .dataframe tbody tr th:only-of-type {\n",
       "        vertical-align: middle;\n",
       "    }\n",
       "\n",
       "    .dataframe tbody tr th {\n",
       "        vertical-align: top;\n",
       "    }\n",
       "\n",
       "    .dataframe thead th {\n",
       "        text-align: right;\n",
       "    }\n",
       "</style>\n",
       "<table border=\"1\" class=\"dataframe\">\n",
       "  <thead>\n",
       "    <tr style=\"text-align: right;\">\n",
       "      <th></th>\n",
       "      <th>date</th>\n",
       "      <th>title</th>\n",
       "      <th>review</th>\n",
       "      <th>rating</th>\n",
       "      <th>username</th>\n",
       "      <th>helpful_votes</th>\n",
       "      <th>review_length</th>\n",
       "      <th>platform</th>\n",
       "      <th>language</th>\n",
       "      <th>location</th>\n",
       "      <th>version</th>\n",
       "      <th>verified_purchase</th>\n",
       "      <th>sentiment</th>\n",
       "    </tr>\n",
       "  </thead>\n",
       "  <tbody>\n",
       "    <tr>\n",
       "      <th>0</th>\n",
       "      <td>2024-12-24</td>\n",
       "      <td>East list local interesting far magazine father.</td>\n",
       "      <td>Impressive natural language understanding. Alm...</td>\n",
       "      <td>1</td>\n",
       "      <td>darren55</td>\n",
       "      <td>25</td>\n",
       "      <td>9</td>\n",
       "      <td>Google Play</td>\n",
       "      <td>de</td>\n",
       "      <td>Nepal</td>\n",
       "      <td>2.0.4</td>\n",
       "      <td>No</td>\n",
       "      <td>Negative</td>\n",
       "    </tr>\n",
       "    <tr>\n",
       "      <th>1</th>\n",
       "      <td>2024-07-26</td>\n",
       "      <td>Road determine picture figure hard experience ...</td>\n",
       "      <td>Sometimes gives wrong answers or outdated info...</td>\n",
       "      <td>2</td>\n",
       "      <td>davistyler</td>\n",
       "      <td>35</td>\n",
       "      <td>14</td>\n",
       "      <td>Flipkart</td>\n",
       "      <td>es</td>\n",
       "      <td>Panama</td>\n",
       "      <td>2.6.5</td>\n",
       "      <td>No</td>\n",
       "      <td>Negative</td>\n",
       "    </tr>\n",
       "    <tr>\n",
       "      <th>2</th>\n",
       "      <td>2024-08-22</td>\n",
       "      <td>Policy social past analysis whole.</td>\n",
       "      <td>Great tool for generating content quickly. Int...</td>\n",
       "      <td>5</td>\n",
       "      <td>andrea59</td>\n",
       "      <td>94</td>\n",
       "      <td>10</td>\n",
       "      <td>App Store</td>\n",
       "      <td>es</td>\n",
       "      <td>Denmark</td>\n",
       "      <td>4.2.2</td>\n",
       "      <td>No</td>\n",
       "      <td>Positive</td>\n",
       "    </tr>\n",
       "    <tr>\n",
       "      <th>3</th>\n",
       "      <td>2025-04-24</td>\n",
       "      <td>News financial billion four foreign.</td>\n",
       "      <td>Great tool for generating content quickly. Sta...</td>\n",
       "      <td>3</td>\n",
       "      <td>dcooper</td>\n",
       "      <td>50</td>\n",
       "      <td>15</td>\n",
       "      <td>Amazon</td>\n",
       "      <td>de</td>\n",
       "      <td>Brunei Darussalam</td>\n",
       "      <td>4.4.2</td>\n",
       "      <td>No</td>\n",
       "      <td>Neutral</td>\n",
       "    </tr>\n",
       "    <tr>\n",
       "      <th>4</th>\n",
       "      <td>2024-08-15</td>\n",
       "      <td>To skill she case sing stop likely.</td>\n",
       "      <td>Excellent for language translation and grammar...</td>\n",
       "      <td>1</td>\n",
       "      <td>christine79</td>\n",
       "      <td>33</td>\n",
       "      <td>11</td>\n",
       "      <td>Flipkart</td>\n",
       "      <td>fr</td>\n",
       "      <td>United States Minor Outlying Islands</td>\n",
       "      <td>5.1.1</td>\n",
       "      <td>Yes</td>\n",
       "      <td>Negative</td>\n",
       "    </tr>\n",
       "  </tbody>\n",
       "</table>\n",
       "</div>"
      ],
      "text/plain": [
       "         date                                              title  \\\n",
       "0  2024-12-24   East list local interesting far magazine father.   \n",
       "1  2024-07-26  Road determine picture figure hard experience ...   \n",
       "2  2024-08-22                 Policy social past analysis whole.   \n",
       "3  2025-04-24               News financial billion four foreign.   \n",
       "4  2024-08-15                To skill she case sing stop likely.   \n",
       "\n",
       "                                              review  rating     username  \\\n",
       "0  Impressive natural language understanding. Alm...       1     darren55   \n",
       "1  Sometimes gives wrong answers or outdated info...       2   davistyler   \n",
       "2  Great tool for generating content quickly. Int...       5     andrea59   \n",
       "3  Great tool for generating content quickly. Sta...       3      dcooper   \n",
       "4  Excellent for language translation and grammar...       1  christine79   \n",
       "\n",
       "   helpful_votes  review_length     platform language  \\\n",
       "0             25              9  Google Play       de   \n",
       "1             35             14     Flipkart       es   \n",
       "2             94             10    App Store       es   \n",
       "3             50             15       Amazon       de   \n",
       "4             33             11     Flipkart       fr   \n",
       "\n",
       "                               location version verified_purchase sentiment  \n",
       "0                                 Nepal   2.0.4                No  Negative  \n",
       "1                                Panama   2.6.5                No  Negative  \n",
       "2                               Denmark   4.2.2                No  Positive  \n",
       "3                     Brunei Darussalam   4.4.2                No   Neutral  \n",
       "4  United States Minor Outlying Islands   5.1.1               Yes  Negative  "
      ]
     },
     "execution_count": 42,
     "metadata": {},
     "output_type": "execute_result"
    }
   ],
   "source": [
    "df.head()"
   ]
  },
  {
   "cell_type": "code",
   "execution_count": 47,
   "id": "69dbe49c",
   "metadata": {},
   "outputs": [
    {
     "data": {
      "image/png": "[encoded data removed]",
      "text/plain": [
       "<Figure size 300x200 with 1 Axes>"
      ]
     },
     "metadata": {},
     "output_type": "display_data"
    }
   ],
   "source": [
    "plt.figure(figsize=(3,2))\n",
    "sns.countplot(data=df, x='sentiment', hue='sentiment', palette='Set2')\n",
    "plt.title(\"Sentiment Distribution\")\n",
    "plt.show()"
   ]
  },
  {
   "cell_type": "markdown",
   "id": "ac248193",
   "metadata": {},
   "source": [
    "Text Processing"
   ]
  },
  {
   "cell_type": "code",
   "execution_count": null,
   "id": "6a593967",
   "metadata": {},
   "outputs": [
    {
     "data": {
      "text/plain": [
       "0     east list local interesting far magazine father.\n",
       "1    road determine picture figure hard experience ...\n",
       "2                   policy social past analysis whole.\n",
       "3                 news financial billion four foreign.\n",
       "4                  to skill she case sing stop likely.\n",
       "Name: title, dtype: object"
      ]
     },
     "execution_count": 49,
     "metadata": {},
     "output_type": "execute_result"
    }
   ],
   "source": [
    "# converting sentences to lower case letter\n",
    "df['title'] = df['title'].str.lower()\n",
    "df['title'].head()"
   ]
  },
  {
   "cell_type": "code",
   "execution_count": 51,
   "id": "885afd58",
   "metadata": {},
   "outputs": [
    {
     "data": {
      "text/plain": [
       "0     east list local interesting far magazine father.\n",
       "1    road determine picture figure hard experience ...\n",
       "2                   policy social past analysis whole.\n",
       "Name: title, dtype: object"
      ]
     },
     "execution_count": 51,
     "metadata": {},
     "output_type": "execute_result"
    }
   ],
   "source": [
    "# removing extra white space\n",
    "def remove_whitespace(text):\n",
    "  return \" \".join(text.split())\n",
    "\n",
    "df['title'] = df['title'].apply(remove_whitespace)\n",
    "df['title'].head(3)"
   ]
  },
  {
   "cell_type": "code",
   "execution_count": 52,
   "id": "5cbad408",
   "metadata": {},
   "outputs": [
    {
     "data": {
      "text/plain": [
       "0    [east, list, local, interesting, far, magazine...\n",
       "1    [road, determine, picture, figure, hard, exper...\n",
       "2           [policy, social, past, analysis, whole, .]\n",
       "Name: title, dtype: object"
      ]
     },
     "execution_count": 52,
     "metadata": {},
     "output_type": "execute_result"
    }
   ],
   "source": [
    "# Tokenization\n",
    "from nltk import word_tokenize\n",
    "df['title']=df['title'].apply(lambda X: word_tokenize(X))\n",
    "df['title'].head(3)"
   ]
  },
  {
   "cell_type": "code",
   "execution_count": 54,
   "id": "352bae3a",
   "metadata": {},
   "outputs": [
    {
     "name": "stdout",
     "output_type": "stream",
     "text": [
      "['a', 'about', 'above', 'after', 'again', 'against', 'ain', 'all', 'am', 'an', 'and', 'any', 'are', 'aren', \"aren't\", 'as', 'at', 'be', 'because', 'been', 'before', 'being', 'below', 'between', 'both', 'but', 'by', 'can', 'couldn', \"couldn't\", 'd', 'did', 'didn', \"didn't\", 'do', 'does', 'doesn', \"doesn't\", 'doing', 'don', \"don't\", 'down', 'during', 'each', 'few', 'for', 'from', 'further', 'had', 'hadn', \"hadn't\", 'has', 'hasn', \"hasn't\", 'have', 'haven', \"haven't\", 'having', 'he', \"he'd\", \"he'll\", 'her', 'here', 'hers', 'herself', \"he's\", 'him', 'himself', 'his', 'how', 'i', \"i'd\", 'if', \"i'll\", \"i'm\", 'in', 'into', 'is', 'isn', \"isn't\", 'it', \"it'd\", \"it'll\", \"it's\", 'its', 'itself', \"i've\", 'just', 'll', 'm', 'ma', 'me', 'mightn', \"mightn't\", 'more', 'most', 'mustn', \"mustn't\", 'my', 'myself', 'needn', \"needn't\", 'no', 'nor', 'not', 'now', 'o', 'of', 'off', 'on', 'once', 'only', 'or', 'other', 'our', 'ours', 'ourselves', 'out', 'over', 'own', 're', 's', 'same', 'shan', \"shan't\", 'she', \"she'd\", \"she'll\", \"she's\", 'should', 'shouldn', \"shouldn't\", \"should've\", 'so', 'some', 'such', 't', 'than', 'that', \"that'll\", 'the', 'their', 'theirs', 'them', 'themselves', 'then', 'there', 'these', 'they', \"they'd\", \"they'll\", \"they're\", \"they've\", 'this', 'those', 'through', 'to', 'too', 'under', 'until', 'up', 've', 'very', 'was', 'wasn', \"wasn't\", 'we', \"we'd\", \"we'll\", \"we're\", 'were', 'weren', \"weren't\", \"we've\", 'what', 'when', 'where', 'which', 'while', 'who', 'whom', 'why', 'will', 'with', 'won', \"won't\", 'wouldn', \"wouldn't\", 'y', 'you', \"you'd\", \"you'll\", 'your', \"you're\", 'yours', 'yourself', 'yourselves', \"you've\"]\n"
     ]
    },
    {
     "name": "stderr",
     "output_type": "stream",
     "text": [
      "[nltk_data] Downloading package stopwords to\n",
      "[nltk_data]     C:\\Users\\shast\\AppData\\Roaming\\nltk_data...\n",
      "[nltk_data]   Package stopwords is already up-to-date!\n"
     ]
    },
    {
     "data": {
      "text/plain": [
       "0    [east, list, local, interesting, far, magazine...\n",
       "1    [road, determine, picture, figure, hard, exper...\n",
       "2           [policy, social, past, analysis, whole, .]\n",
       "Name: title, dtype: object"
      ]
     },
     "execution_count": 54,
     "metadata": {},
     "output_type": "execute_result"
    }
   ],
   "source": [
    "# stopword removal\n",
    "import nltk\n",
    "nltk.download('stopwords')\n",
    "\n",
    "from nltk.corpus import stopwords\n",
    "print(stopwords.words('english'))\n",
    "\n",
    "en_stopwords = stopwords.words('english')\n",
    "\n",
    "def remove_stopwords(text):\n",
    "   result = []\n",
    "   for token in text:\n",
    "       if token not in en_stopwords:\n",
    "           result.append(token)\n",
    "   return result\n",
    "\n",
    "df['title'] = df['title'].apply(remove_stopwords)\n",
    "df['title'].head(3)"
   ]
  },
  {
   "cell_type": "code",
   "execution_count": 56,
   "id": "595e85f0",
   "metadata": {},
   "outputs": [
    {
     "data": {
      "text/plain": [
       "0    [east, list, local, interesting, far, magazine...\n",
       "1    [road, determine, picture, figure, hard, exper...\n",
       "2              [policy, social, past, analysis, whole]\n",
       "Name: title, dtype: object"
      ]
     },
     "execution_count": 56,
     "metadata": {},
     "output_type": "execute_result"
    }
   ],
   "source": [
    "# Removing special characters\n",
    "from nltk.tokenize import RegexpTokenizer\n",
    "def remove_punct(text):\n",
    "   tokenizer = RegexpTokenizer(r\"\\w+\")\n",
    "   lst=tokenizer.tokenize(' '.join(text))\n",
    "   return lst\n",
    "df['title'] = df['title'].apply(remove_punct)\n",
    "df['title'].head(3)"
   ]
  },
  {
   "cell_type": "code",
   "execution_count": 57,
   "id": "06664882",
   "metadata": {},
   "outputs": [
    {
     "name": "stderr",
     "output_type": "stream",
     "text": [
      "[nltk_data] Downloading package omw-1.4 to\n",
      "[nltk_data]     C:\\Users\\shast\\AppData\\Roaming\\nltk_data...\n",
      "[nltk_data] Downloading package averaged_perceptron_tagger to\n",
      "[nltk_data]     C:\\Users\\shast\\AppData\\Roaming\\nltk_data...\n",
      "[nltk_data]   Unzipping taggers\\averaged_perceptron_tagger.zip.\n",
      "[nltk_data] Downloading package wordnet to\n",
      "[nltk_data]     C:\\Users\\shast\\AppData\\Roaming\\nltk_data...\n",
      "[nltk_data] Downloading package averaged_perceptron_tagger_eng to\n",
      "[nltk_data]     C:\\Users\\shast\\AppData\\Roaming\\nltk_data...\n",
      "[nltk_data]   Unzipping taggers\\averaged_perceptron_tagger_eng.zip.\n"
     ]
    },
    {
     "data": {
      "text/plain": [
       "0    [east, list, local, interest, far, magazine, f...\n",
       "1    [road, determine, picture, figure, hard, exper...\n",
       "2              [policy, social, past, analysis, whole]\n",
       "Name: title, dtype: object"
      ]
     },
     "execution_count": 57,
     "metadata": {},
     "output_type": "execute_result"
    }
   ],
   "source": [
    "# Lemmetization and Stemming\n",
    "import nltk\n",
    "nltk.download('omw-1.4')\n",
    "\n",
    "from nltk.stem import WordNetLemmatizer\n",
    "from nltk import word_tokenize,pos_tag\n",
    "import nltk\n",
    "nltk.download('averaged_perceptron_tagger')\n",
    "nltk.download('wordnet')\n",
    "import nltk\n",
    "nltk.download('averaged_perceptron_tagger_eng')\n",
    "\n",
    "def lemmatization(text):\n",
    "   result=[]\n",
    "   wordnet = WordNetLemmatizer()\n",
    "   for token,tag in pos_tag(text):\n",
    "       pos=tag[0].lower()\n",
    "\n",
    "       if pos not in ['a', 'r', 'n', 'v']:\n",
    "           pos='n'\n",
    "\n",
    "       result.append(wordnet.lemmatize(token,pos))\n",
    "\n",
    "   return result\n",
    "df['title'] = df['title'].apply(lemmatization)\n",
    "df['title'].head(3)"
   ]
  },
  {
   "cell_type": "code",
   "execution_count": 58,
   "id": "db0d1caa",
   "metadata": {},
   "outputs": [
    {
     "data": {
      "text/plain": [
       "0    [east, list, local, interest, far, magazin, fa...\n",
       "1    [road, determin, pictur, figur, hard, experi, ...\n",
       "2               [polici, social, past, analysi, whole]\n",
       "Name: title, dtype: object"
      ]
     },
     "execution_count": 58,
     "metadata": {},
     "output_type": "execute_result"
    }
   ],
   "source": [
    "from nltk.stem import PorterStemmer\n",
    "\n",
    "def stemming(text):\n",
    "   porter = PorterStemmer()\n",
    "\n",
    "   result=[]\n",
    "   for word in text:\n",
    "       result.append(porter.stem(word))\n",
    "   return result\n",
    "df['title'] = df['title'].apply(stemming)\n",
    "df['title'].head(3)"
   ]
  },
  {
   "cell_type": "code",
   "execution_count": null,
   "id": "6658b092",
   "metadata": {},
   "outputs": [],
   "source": []
  }
 ],
 "metadata": {
  "kernelspec": {
   "display_name": "Python 3",
   "language": "python",
   "name": "python3"
  },
  "language_info": {
   "codemirror_mode": {
    "name": "ipython",
    "version": 3
   },
   "file_extension": ".py",
   "mimetype": "text/x-python",
   "name": "python",
   "nbconvert_exporter": "python",
   "pygments_lexer": "ipython3",
   "version": "3.12.8"
  }
 },
 "nbformat": 4,
 "nbformat_minor": 5
}
